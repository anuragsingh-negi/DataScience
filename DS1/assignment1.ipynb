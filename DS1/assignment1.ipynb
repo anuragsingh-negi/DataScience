{
 "cells": [
  {
   "cell_type": "markdown",
   "metadata": {},
   "source": [
    "Before you turn this assignment in, make sure everything runs as expected. \n",
    "\n",
    "You can either **restart the kernel** (in the menu bar, select Kernel $\\rightarrow$ Restart and Clear Output) and then **run all cells** (in the menu bar, select Cell $\\rightarrow$ Run All). \n",
    "Or, you can simply **clear the output for all cells** (in the menu bar, select Cell $\\rightarrow$ All Output $\\rightarrow$ Clear) and then **run all cells** (in the menu bar, select Cell $\\rightarrow$ Run All).\n",
    "\n",
    "---"
   ]
  },
  {
   "cell_type": "code",
   "execution_count": 33,
   "metadata": {},
   "outputs": [],
   "source": [
    "NAME = \"Anurag Singh Negi\"\n",
    "COLLABORATORS = \"\""
   ]
  },
  {
   "cell_type": "markdown",
   "metadata": {},
   "source": [
    "# Assignment 1 - Intro to Python\n",
    "\n",
    "(15 points)"
   ]
  },
  {
   "cell_type": "markdown",
   "metadata": {},
   "source": [
    "## Learning Outcomes\n",
    "\n",
    "In this assignment you will practice:\n",
    "\n",
    "- Basic Python syntax\n",
    "- Writing simple Python functions\n",
    "- Working with strings and dictionaries"
   ]
  },
  {
   "cell_type": "markdown",
   "metadata": {},
   "source": [
    "## Question #1: Count symbols\n",
    "\n",
    "(3 points)"
   ]
  },
  {
   "cell_type": "markdown",
   "metadata": {},
   "source": [
    "In this question, you are given a string `s` which represents a DNA string. The string `s` consists of symbols `'A', 'C', 'G',` and `'T'`. An example of a length 21 DNA string is `\"ATGCTTCAGAAAGGTCTTACG.\"` \n",
    "\n",
    "Your task is to write a code which will count the number of times each of the symbols `'A', 'C', 'G'`, and `'T'` occur in `s`. Your code should generate a **list of 4 integers** and **print it out**."
   ]
  },
  {
   "cell_type": "code",
   "execution_count": 34,
   "metadata": {},
   "outputs": [],
   "source": [
    "# Here is the DNA string:\n",
    "\n",
    "s = 'AGCTTTTCATTCTGACTGCAACGGGCAATATGTCTCTGTGTGGATTAAAAAAAGAGTGTCTGATAGCAGC'"
   ]
  },
  {
   "cell_type": "code",
   "execution_count": 35,
   "metadata": {},
   "outputs": [
    {
     "name": "stdout",
     "output_type": "stream",
     "text": [
      "[20, 12, 17, 21]\n"
     ]
    }
   ],
   "source": [
    "# First Solution  with using the count function \n",
    "# We are creating an empty list for the symbol count and then iterating through the symbols we need the count\n",
    "\n",
    "count_symbol_list = []\n",
    "symbol_check = 'ACGT'    \n",
    "\n",
    "for i in symbol_check:\n",
    "    count_symbol_list.append(s.count(i))\n",
    "print(count_symbol_list)"
   ]
  },
  {
   "cell_type": "code",
   "execution_count": 36,
   "metadata": {},
   "outputs": [
    {
     "name": "stdout",
     "output_type": "stream",
     "text": [
      "[20, 12, 17, 21]\n"
     ]
    }
   ],
   "source": [
    "#Second Solution  with creating a symbol count function \n",
    "# We are creating an empty list for the symbol count and then iterating through the symbols we need the count\n",
    "\n",
    "count_symbol_list = []\n",
    "symbol_check = 'ACGT'\n",
    "\n",
    "#Symbol count function\n",
    "def symbol_count(test_string, sym):\n",
    "    sym_freq = 0\n",
    "    for i in test_string:\n",
    "        if i == sym:\n",
    "            sym_freq +=1\n",
    "    return sym_freq\n",
    "\n",
    "for i in symbol_check:\n",
    "    count_symbol_list.append(symbol_count(s,i))\n",
    "print(count_symbol_list)\n",
    "    \n",
    "\n"
   ]
  },
  {
   "cell_type": "code",
   "execution_count": null,
   "metadata": {},
   "outputs": [],
   "source": [
    "\n",
    "    "
   ]
  },
  {
   "cell_type": "markdown",
   "metadata": {},
   "source": [
    "## Question #2: Find a substring\n",
    "\n",
    "(4 points)"
   ]
  },
  {
   "cell_type": "markdown",
   "metadata": {},
   "source": [
    "You are given a dictionary of the US states and their capitals. The keys in the dictionary are states and the values are capital names.\n",
    "\n",
    "Write a code to return a **list of all capitals** that contain the name of a state in their name as a substring.\n",
    "\n",
    "**HINT:** For example, `Indianapolis` as a capital name and `Indiana` as a state name is one of the key/value pairs that your code would find. Your code should add `Indianapolis` to the list. After you found all capitals and added them to the list, print out the list."
   ]
  },
  {
   "cell_type": "code",
   "execution_count": 37,
   "metadata": {
    "scrolled": true
   },
   "outputs": [
    {
     "data": {
      "text/plain": [
       "{'Alabama': 'Montgomery',\n",
       " 'Alaska': 'Juneau',\n",
       " 'Arizona': 'Phoenix',\n",
       " 'Arkansas': 'Little Rock',\n",
       " 'California': 'Sacramento',\n",
       " 'Colorado': 'Denver',\n",
       " 'Connecticut': 'Hartford',\n",
       " 'Delaware': 'Dover',\n",
       " 'Florida': 'Tallahassee',\n",
       " 'Georgia': 'Atlanta',\n",
       " 'Hawaii': 'Honolulu',\n",
       " 'Idaho': 'Boise',\n",
       " 'Illinios': 'Springfield',\n",
       " 'Indiana': 'Indianapolis',\n",
       " 'Iowa': 'Des Monies',\n",
       " 'Kansas': 'Topeka',\n",
       " 'Kentucky': 'Frankfort',\n",
       " 'Louisiana': 'Baton Rouge',\n",
       " 'Maine': 'Augusta',\n",
       " 'Maryland': 'Annapolis',\n",
       " 'Massachusetts': 'Boston',\n",
       " 'Michigan': 'Lansing',\n",
       " 'Minnesota': 'St. Paul',\n",
       " 'Mississippi': 'Jackson',\n",
       " 'Missouri': 'Jefferson City',\n",
       " 'Montana': 'Helena',\n",
       " 'Nebraska': 'Lincoln',\n",
       " 'Neveda': 'Carson City',\n",
       " 'New Hampshire': 'Concord',\n",
       " 'New Jersey': 'Trenton',\n",
       " 'New Mexico': 'Santa Fe',\n",
       " 'New York': 'Albany',\n",
       " 'North Carolina': 'Raleigh',\n",
       " 'North Dakota': 'Bismarck',\n",
       " 'Ohio': 'Columbus',\n",
       " 'Oklahoma': 'Oklahoma City',\n",
       " 'Oregon': 'Salem',\n",
       " 'Pennsylvania': 'Harrisburg',\n",
       " 'Rhoda Island': 'Providence',\n",
       " 'South Carolina': 'Columbia',\n",
       " 'South Dakota': 'Pierre',\n",
       " 'Tennessee': 'Nashville',\n",
       " 'Texas': 'Austin',\n",
       " 'Utah': 'Salt Lake City',\n",
       " 'Vermont': 'Montpelier',\n",
       " 'Virginia': 'Richmond',\n",
       " 'Washington': 'Olympia',\n",
       " 'West Virginia': 'Charleston',\n",
       " 'Wisconsin': 'Madison',\n",
       " 'Wyoming': 'Cheyenne'}"
      ]
     },
     "execution_count": 37,
     "metadata": {},
     "output_type": "execute_result"
    }
   ],
   "source": [
    "# Run this cell to create a dictionary of states' capitals\n",
    "capitals={\n",
    "    'Alabama': 'Montgomery',\n",
    "    'Alaska': 'Juneau',\n",
    "    'Arizona':'Phoenix',\n",
    "    'Arkansas':'Little Rock',\n",
    "    'California': 'Sacramento',\n",
    "    'Colorado':'Denver',\n",
    "    'Connecticut':'Hartford',\n",
    "    'Delaware':'Dover',\n",
    "    'Florida': 'Tallahassee',\n",
    "    'Georgia': 'Atlanta',\n",
    "    'Hawaii': 'Honolulu',\n",
    "    'Idaho': 'Boise',\n",
    "    'Illinios': 'Springfield',\n",
    "    'Indiana': 'Indianapolis',\n",
    "    'Iowa': 'Des Monies',\n",
    "    'Kansas': 'Topeka',\n",
    "    'Kentucky': 'Frankfort',\n",
    "    'Louisiana': 'Baton Rouge',\n",
    "    'Maine': 'Augusta',\n",
    "    'Maryland': 'Annapolis',\n",
    "    'Massachusetts': 'Boston',\n",
    "    'Michigan': 'Lansing',\n",
    "    'Minnesota': 'St. Paul',\n",
    "    'Mississippi': 'Jackson',\n",
    "    'Missouri': 'Jefferson City',\n",
    "    'Montana': 'Helena',\n",
    "    'Nebraska': 'Lincoln',\n",
    "    'Neveda': 'Carson City',\n",
    "    'New Hampshire': 'Concord',\n",
    "    'New Jersey': 'Trenton',\n",
    "    'New Mexico': 'Santa Fe',\n",
    "    'New York': 'Albany',\n",
    "    'North Carolina': 'Raleigh',\n",
    "    'North Dakota': 'Bismarck',\n",
    "    'Ohio': 'Columbus',\n",
    "    'Oklahoma': 'Oklahoma City',\n",
    "    'Oregon': 'Salem',\n",
    "    'Pennsylvania': 'Harrisburg',\n",
    "    'Rhoda Island': 'Providence',\n",
    "    'South Carolina': 'Columbia',\n",
    "    'South Dakota': 'Pierre',\n",
    "    'Tennessee': 'Nashville',\n",
    "    'Texas': 'Austin',\n",
    "    'Utah': 'Salt Lake City',\n",
    "    'Vermont': 'Montpelier',\n",
    "    'Virginia': 'Richmond',\n",
    "    'Washington': 'Olympia',\n",
    "    'West Virginia': 'Charleston',\n",
    "    'Wisconsin': 'Madison',\n",
    "    'Wyoming': 'Cheyenne'  \n",
    "}\n",
    "capitals"
   ]
  },
  {
   "cell_type": "code",
   "execution_count": 38,
   "metadata": {},
   "outputs": [
    {
     "data": {
      "text/plain": [
       "['Indianapolis', 'Oklahoma City']"
      ]
     },
     "execution_count": 38,
     "metadata": {},
     "output_type": "execute_result"
    }
   ],
   "source": [
    "#First solution using the list comprehension\n",
    "#We are iterating through dict of states and capitals and selecting the once with state name in capital name\n",
    "[capital_name for state_name in capitals for capital_name in capitals.values() if state_name in capital_name]"
   ]
  },
  {
   "cell_type": "code",
   "execution_count": 39,
   "metadata": {},
   "outputs": [
    {
     "name": "stdout",
     "output_type": "stream",
     "text": [
      "['Indianapolis', 'Oklahoma City']\n"
     ]
    }
   ],
   "source": [
    "#Second solution without using the list comprehension creating a function state_name_in_capital which takes a dict as input \n",
    "# and returns the list of capitals which have state name in them\n",
    "#We are iterating through dict of states and capitals and selecting the once with state name in capital name\n",
    "\n",
    "state_name_in_capital_list = []\n",
    "def state_name_in_capital(dict_value):\n",
    "    for state_name in dict_value:\n",
    "        for capital_name in dict_value.values():\n",
    "            if state_name in capital_name:\n",
    "                state_name_in_capital_list.append(capital_name)\n",
    "    print(state_name_in_capital_list)\n",
    "                \n",
    "state_name_in_capital(capitals)\n"
   ]
  },
  {
   "cell_type": "code",
   "execution_count": null,
   "metadata": {},
   "outputs": [],
   "source": []
  },
  {
   "cell_type": "markdown",
   "metadata": {},
   "source": [
    "## Question #3: Is a data point within a rectangle?\n",
    "\n",
    "(4 points)"
   ]
  },
  {
   "cell_type": "markdown",
   "metadata": {},
   "source": [
    "Write a function `isIn()` which returns **boolean `True`** if a point is within a rectangle specified by two sets of coordinates and **boolean `False`** if the point is outside the rectangle. The function should accept three parameters:\n",
    "- the first parameter is a set of coordinates which defines one of the corners of the rectangle, \n",
    "- the second parameter is also a set of coordinates that defines the second corner,\n",
    "- the third set of coordinates defines a single point which is being tested.\n",
    "\n",
    "For example, \n",
    "- `isIn((1,2), (3,4), (1.5, 3.2))` should return `True`, \n",
    "- `isIn((4,3.5), (2,1), (3, 2))` should return `True`, \n",
    "- `isIn((-1,0), (5,5), (6,0))` should return `False`,\n",
    "- `isIn((4,1), (2,4), (2.5,4.5))` should return `False`.\n",
    "\n",
    "Test your function with at least 2 different sets of data points in addition to the examples above.\n",
    "\n",
    "**NOTES:** \n",
    "1. If the point being tested is on the side of the rectangle, consider it to be within the rectangle. For example, if the rectangle is defined as `(1,2), (3,4)` and the point is `(2,2)`, the function should return `True`.\n",
    "2. In this assignment, we assume that the edges of the rectangle are parallel to coordinate axes.\n",
    "3. We also assume that the first parameter does not always represent the left corner of the rectangle and the second parameter is not always the right corner. The function should work correctly either way. Please note the second test condition above where the first parameter, `(4,3.5)`, represents the top-right corner and the second parameter, `(2,1)`, represents left-bottom corner. "
   ]
  },
  {
   "cell_type": "code",
   "execution_count": 40,
   "metadata": {},
   "outputs": [
    {
     "data": {
      "text/plain": [
       "True"
      ]
     },
     "execution_count": 40,
     "metadata": {},
     "output_type": "execute_result"
    }
   ],
   "source": [
    "#In our function isIn we are finding the left most point and right most point among the x coordinates in the first and second corner\n",
    "# Similarly we re finding the top and the bottom points from the first and second cornor\n",
    "# once we have the above details on the corners we are comparing the point we need to check if its within the rectangel created\n",
    "# by the first and second corner.\n",
    "# We are checking if the x coordinate of the point is greater than equal to left most x coordinate and smaller than \n",
    "# equal to the right most x coordinate similary for the y coordinate if the y coordinate of the point is less than\n",
    "# equal to the top Y coordinate and greater than equal to the bottom y coordinate of the first and second corner.\n",
    "\n",
    "def isIn(firstCorner, secondCorner, point):\n",
    "    if firstCorner[0] > secondCorner[0]:\n",
    "        leftX = secondCorner[0]\n",
    "        rightX = firstCorner[0]\n",
    "    else:\n",
    "        leftX = firstCorner[0]\n",
    "        rightX = secondCorner[0]\n",
    "    if firstCorner[1] > secondCorner[1]:\n",
    "        topY = firstCorner[1]\n",
    "        bottomY = secondCorner[1]\n",
    "    else:\n",
    "        topY = secondCorner[1]\n",
    "        bottomY = firstCorner[1]\n",
    "    if point[0] >= leftX and point[0] <= rightX and point[1] >= bottomY and point[1] <= topY:\n",
    "        return True\n",
    "    else:\n",
    "        return False\n",
    "        \n",
    "\n",
    "isIn((1,2), (3,4), (1.5, 3.2))\n",
    "#isIn((4,3.5), (2,1), (3, 2))\n",
    "#isIn((-1,0), (5,5), (6,0)) \n",
    "#isIn((4,1), (2,4), (2.5,4.5))        \n",
    "#isIn((0,0),(4,4), (-1,4))\n"
   ]
  },
  {
   "cell_type": "code",
   "execution_count": null,
   "metadata": {},
   "outputs": [],
   "source": []
  },
  {
   "cell_type": "markdown",
   "metadata": {},
   "source": [
    "## Question #4: Are all points within a rectangle?\n",
    "\n",
    "(4 points)"
   ]
  },
  {
   "cell_type": "markdown",
   "metadata": {},
   "source": [
    "Modify your function from the previous question so it takes a list of points rather than a single point and returns **boolean `True`** only if all points in the list are in the rectangle.\n",
    "\n",
    "For example,\n",
    "\n",
    "- `allIn((0,0), (5,5), [(1,1), (0,0), (5,5)])` should return `True`\n",
    "- but `allIn((0,0), (5,5), [(1,1), (0,0), (5,6)])` should return `False`\n",
    "- empty list of points `allIn((0,0), (5,5), [])` should return `False`\n",
    "\n",
    "Use the same assumptions as above about the placement of the points and how rectangle is defined. Make sure that your function returns `False` for empty list of points (no values).\n",
    "\n",
    "Test your function with at least 3 different sets of data points."
   ]
  },
  {
   "cell_type": "code",
   "execution_count": 41,
   "metadata": {},
   "outputs": [
    {
     "data": {
      "text/plain": [
       "True"
      ]
     },
     "execution_count": 41,
     "metadata": {},
     "output_type": "execute_result"
    }
   ],
   "source": [
    "# We are updating the function used in the solution of the third question and are iterating through the list of points.\n",
    "# to check if all the points are inside the rectangle and returning True in case all the points in the list pointList are \n",
    "# inside the rectangle.\n",
    "# Incase any of the point is outside the rectangle we are returning a false and exit the for loop to return False\n",
    "\n",
    "def allIn(firstCorner, secondCorner, pointList):\n",
    "    if len(pointList) == 0:\n",
    "        return False\n",
    "    else:\n",
    "        if firstCorner[0] > secondCorner[0]:\n",
    "            leftX = secondCorner[0]\n",
    "            rightX = firstCorner[0]\n",
    "        else:\n",
    "            leftX = firstCorner[0]\n",
    "            rightX = secondCorner[0]\n",
    "        if firstCorner[1] > secondCorner[1]:\n",
    "            topY = firstCorner[1]\n",
    "            bottomY = secondCorner[1]\n",
    "        else:\n",
    "            topY = secondCorner[1]\n",
    "            bottomY = firstCorner[1]\n",
    "        for point in pointList:\n",
    "            if point[0] >= leftX and point[0] <= rightX and point[1] >= bottomY and point[1] <= topY:\n",
    "                point_inside = True\n",
    "            else:\n",
    "                point_inside = False\n",
    "                break\n",
    "        return point_inside\n",
    "\n",
    "allIn((0,0), (5,5), [(1,1), (0,0), (5,5)])\n",
    "#allIn((0,0), (5,5), [(1,1), (0,0), (5,6)])\n",
    "#allIn((0,0), (5,5), [])\n",
    "#allIn((1,1), (-4,-4), [(0,0),(1,1),(11,11)])\n",
    "\n",
    "        "
   ]
  },
  {
   "cell_type": "code",
   "execution_count": null,
   "metadata": {},
   "outputs": [],
   "source": []
  }
 ],
 "metadata": {
  "kernelspec": {
   "display_name": "Python 3",
   "language": "python",
   "name": "python3"
  },
  "language_info": {
   "codemirror_mode": {
    "name": "ipython",
    "version": 3
   },
   "file_extension": ".py",
   "mimetype": "text/x-python",
   "name": "python",
   "nbconvert_exporter": "python",
   "pygments_lexer": "ipython3",
   "version": "3.7.4"
  },
  "toc": {
   "base_numbering": 1,
   "nav_menu": {},
   "number_sections": false,
   "sideBar": true,
   "skip_h1_title": false,
   "title_cell": "Table of Contents",
   "title_sidebar": "Contents",
   "toc_cell": false,
   "toc_position": {},
   "toc_section_display": true,
   "toc_window_display": false
  }
 },
 "nbformat": 4,
 "nbformat_minor": 2
}
